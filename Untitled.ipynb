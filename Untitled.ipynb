{
 "cells": [
  {
   "cell_type": "code",
   "execution_count": 1,
   "metadata": {
    "collapsed": true
   },
   "outputs": [],
   "source": [
    "#dwnld and progress bar\n",
    "import os\n",
    "progress=None\n",
    "def tracking_dwnld(block_count,size_of_block,total_size):\n",
    "    percent=int(block_count*size_of_block*100/total_size)\n",
    "    global progress\n",
    "    if percent!=progress:\n",
    "        if percent%5==0:print(percent,end=\"\",flush=True)\n",
    "        else:print(\".\",end=\"\",flush=True)\n",
    "    progress=percent\n",
    "def dwnld_file(url,file,root_dir=\"stockcsvfiles\"):\n",
    "    from urllib.request import urlretrieve\n",
    "    filename=file\n",
    "    dest_file=os.path.join(root_dir,filename)\n",
    "    if not os.path.exists(dest_file):\n",
    "        file,_=urlretrieve(url,filename=dest_file,reporthook=tracking_dwnld)\n",
    "    else:\n",
    "        print(\"already present\")\n",
    "    return dest_file,filename,os.stat(dest_file)\n"
   ]
  },
  {
   "cell_type": "code",
   "execution_count": null,
   "metadata": {
    "collapsed": false
   },
   "outputs": [],
   "source": [
    "#dwnld nse stockfiles from yahoo that are in stocklist which are 330 most traded on daily basis  eligible for day trading in\n",
    "                                                                                      #zerodha\n",
    "import csv\n",
    "\n",
    "with open(\"stocklist.csv\",\"r\") as f:\n",
    "    file=csv.reader(f,delimiter=\" \")\n",
    "    for row in file:\n",
    "        file=row[1][:-3]\n",
    "        url=\"http://chart.finance.yahoo.com/table.csv?s={file}.NS&a=0&b=1&c=2005&d=2&e=15&f=2017&g=d&ignore=.csv\".format(file=file)\n",
    "        dwnld_file(url,file)"
   ]
  },
  {
   "cell_type": "code",
   "execution_count": 2,
   "metadata": {
    "collapsed": false
   },
   "outputs": [
    {
     "data": {
      "text/plain": [
       "5383"
      ]
     },
     "execution_count": 2,
     "metadata": {},
     "output_type": "execute_result"
    }
   ],
   "source": [
    "#get the names of all the files in folder stockfiles\n",
    "import pandas as pd\n",
    "\n",
    "def read_file(stock):\n",
    "    return pd.read_csv(\"stockcsvfiles/{}\".format(stock),skipinitialspace= True,error_bad_lines=False,index_col=\"Date\")\n",
    "list_of_stocks=os.listdir(os.path.join(os.getcwd(),\"stockcsvfiles\"))\n",
    "df=read_file(\"SUNPHARMA\")\n",
    "len(df)"
   ]
  },
  {
   "cell_type": "code",
   "execution_count": null,
   "metadata": {
    "collapsed": false
   },
   "outputs": [],
   "source": [
    "#make a single dataframe from all the stocks and fill the missing values with the first traded values\n",
    "def super_dataframe(list_of_stocks):\n",
    "    for i,stock_name in enumerate(list_of_stocks):\n",
    "        if i==0:\n",
    "            super_df=read_file(stock_name)[:2600][::-1]\n",
    "            \n",
    "        else:\n",
    "            super_df=super_df.join(read_file(stock_name),rsuffix=stock_name,lsuffix=\"3MINDIA\")\n",
    "    return super_df.fillna(method=\"bfill\")    \n",
    "super_dataframe(list_of_stocks)"
   ]
  },
  {
   "cell_type": "code",
   "execution_count": 4,
   "metadata": {
    "collapsed": false
   },
   "outputs": [],
   "source": [
    "modified_df=super_dataframe(list_of_stocks)\n",
    "input_array=modified_df.as_matrix().reshape(modified_df.shape[0],modified_df.shape[1]//6,6)"
   ]
  },
  {
   "cell_type": "code",
   "execution_count": 5,
   "metadata": {
    "collapsed": false
   },
   "outputs": [],
   "source": [
    "modified_df.to_csv(path_or_buf=\"input.csv\",header=False)"
   ]
  },
  {
   "cell_type": "code",
   "execution_count": 3,
   "metadata": {
    "collapsed": false
   },
   "outputs": [
    {
     "data": {
      "text/plain": [
       "(2600, 1986)"
      ]
     },
     "execution_count": 3,
     "metadata": {},
     "output_type": "execute_result"
    }
   ],
   "source": [
    "r=pd.read_csv(\"input.csv\",header=None,index_col=0)\n",
    "r.shape"
   ]
  },
  {
   "cell_type": "code",
   "execution_count": 40,
   "metadata": {
    "collapsed": false
   },
   "outputs": [
    {
     "data": {
      "text/plain": [
       "IncrementalPCA(batch_size=None, copy=True, n_components=20, whiten=False)"
      ]
     },
     "execution_count": 40,
     "metadata": {},
     "output_type": "execute_result"
    }
   ],
   "source": [
    "from sklearn.decomposition import IncrementalPCA\n",
    "#pcar = PCA(n_components=20,svd_solver=\"randomized\",whiten=True)\n",
    "pca=IncrementalPCA(n_components=20)\n",
    "pca.fit(r)\n"
   ]
  },
  {
   "cell_type": "code",
   "execution_count": 41,
   "metadata": {
    "collapsed": false
   },
   "outputs": [
    {
     "data": {
      "text/plain": [
       "(2600, 20)"
      ]
     },
     "execution_count": 41,
     "metadata": {},
     "output_type": "execute_result"
    }
   ],
   "source": [
    "pca.fit_transform(r).shape"
   ]
  },
  {
   "cell_type": "code",
   "execution_count": 42,
   "metadata": {
    "collapsed": false
   },
   "outputs": [
    {
     "data": {
      "text/plain": [
       "array([  7.41986898e-01,   1.19138494e-01,   7.27312882e-02,\n",
       "         1.06459599e-02,   8.32665899e-03,   7.02496605e-03,\n",
       "         6.43213335e-03,   4.19712610e-03,   3.59499112e-03,\n",
       "         2.36530944e-03,   1.87145522e-03,   1.63049146e-03,\n",
       "         1.52204095e-03,   1.36197302e-03,   1.18601756e-03,\n",
       "         1.02395360e-03,   9.25718224e-04,   7.49625034e-04,\n",
       "         7.17595674e-04,   6.62480515e-04])"
      ]
     },
     "execution_count": 42,
     "metadata": {},
     "output_type": "execute_result"
    }
   ],
   "source": [
    "pca.explained_variance_ratio_"
   ]
  },
  {
   "cell_type": "code",
   "execution_count": 43,
   "metadata": {
    "collapsed": false
   },
   "outputs": [
    {
     "name": "stdout",
     "output_type": "stream",
     "text": [
      "0.988095176551\n"
     ]
    },
    {
     "name": "stderr",
     "output_type": "stream",
     "text": [
      "C:\\Users\\PRASANTH\\Anaconda3\\New folder\\lib\\site-packages\\sklearn\\metrics\\regression.py:482: DeprecationWarning: Default 'multioutput' behavior now corresponds to 'variance_weighted' value which is deprecated since 0.17, it will be changed to 'uniform_average' starting from 0.19.\n",
      "  DeprecationWarning)\n"
     ]
    }
   ],
   "source": [
    "from sklearn.metrics import r2_score\n",
    "print(r2_score(r,pca.inverse_transform(pca.fit_transform(r))))\n",
    "#print(r2_score(r,pcar.inverse_transform(pcar.fit_transform(r))))"
   ]
  },
  {
   "cell_type": "code",
   "execution_count": null,
   "metadata": {
    "collapsed": true
   },
   "outputs": [],
   "source": []
  }
 ],
 "metadata": {
  "anaconda-cloud": {},
  "kernelspec": {
   "display_name": "Python [default]",
   "language": "python",
   "name": "python3"
  },
  "language_info": {
   "codemirror_mode": {
    "name": "ipython",
    "version": 3
   },
   "file_extension": ".py",
   "mimetype": "text/x-python",
   "name": "python",
   "nbconvert_exporter": "python",
   "pygments_lexer": "ipython3",
   "version": "3.5.2"
  }
 },
 "nbformat": 4,
 "nbformat_minor": 2
}
